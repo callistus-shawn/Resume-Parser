{
 "cells": [
  {
   "cell_type": "code",
   "execution_count": null,
   "metadata": {
    "execution": {
     "iopub.execute_input": "2025-07-03T07:03:39.414073Z",
     "iopub.status.busy": "2025-07-03T07:03:39.413257Z",
     "iopub.status.idle": "2025-07-03T07:03:39.421422Z",
     "shell.execute_reply": "2025-07-03T07:03:39.420385Z",
     "shell.execute_reply.started": "2025-07-03T07:03:39.414043Z"
    },
    "trusted": true
   },
   "outputs": [],
   "source": [
    "import numpy as np\n",
    "import pandas as pd\n",
    "import matplotlib.pyplot as plt\n",
    "import warnings\n",
    "warnings.filterwarnings('ignore')\n",
    "from sklearn.multiclass import OneVsRestClassifier\n",
    "from sklearn import metrics\n",
    "from sklearn.metrics import accuracy_score\n",
    "from sklearn.ensemble import RandomForestClassifier\n",
    "from sklearn.multiclass import OneVsRestClassifier\n",
    "from sklearn.metrics import accuracy_score, confusion_matrix, classification_report\n",
    "\n",
    "\n",
    "import tensorflow as tf\n",
    "\n",
    "import re\n"
   ]
  },
  {
   "cell_type": "code",
   "execution_count": 6,
   "metadata": {
    "execution": {
     "iopub.execute_input": "2025-07-03T07:04:54.307493Z",
     "iopub.status.busy": "2025-07-03T07:04:54.307113Z",
     "iopub.status.idle": "2025-07-03T07:04:54.506560Z",
     "shell.execute_reply": "2025-07-03T07:04:54.505382Z",
     "shell.execute_reply.started": "2025-07-03T07:04:54.307460Z"
    },
    "trusted": true
   },
   "outputs": [],
   "source": [
    "import pdfplumber\n",
    "\n",
    "def extract_text_from_pdf(file_path):\n",
    "    text = \"\"\n",
    "    with pdfplumber.open(file_path) as pdf:\n",
    "        for page in pdf.pages:\n",
    "            text += page.extract_text() + \"\\n\"\n",
    "    return text\n",
    "\n",
    "resume_text = extract_text_from_pdf(\"/kaggle/input/resume-data/Shawn_resume.pdf\")"
   ]
  },
  {
   "cell_type": "code",
   "execution_count": 7,
   "metadata": {
    "execution": {
     "iopub.execute_input": "2025-07-03T07:04:56.521151Z",
     "iopub.status.busy": "2025-07-03T07:04:56.520711Z",
     "iopub.status.idle": "2025-07-03T07:04:56.528087Z",
     "shell.execute_reply": "2025-07-03T07:04:56.527400Z",
     "shell.execute_reply.started": "2025-07-03T07:04:56.521125Z"
    },
    "trusted": true
   },
   "outputs": [
    {
     "data": {
      "text/plain": [
       "'Shawn Callistus\\n7397366498 | shawncallistusj@gmail.com | linkedin.com/shawn | github.com/shawn\\nEducation\\nShiv Nadar University 2025\\nBachelor of Technology in Artificial Intelligence and Data Science CGPA: 9.0\\nSt. Michaels Academy 2021\\n12th Grade, TNBHSE Percentage: 96.10\\nExperience\\nDataZymes Pvt Ltd Jan 2025 – June 2025\\nData Engineer Associate Bangalore\\n• Trained on AWS services\\n• Built a data warehousing framework for landing, integration, dimension stages using PySpark and Snowflake\\n• Redesigned and deployed an ETL news processing pipeline on Google Cloud with web scraping, LLM-based\\nclassification, and clustering\\n• Implemented an LLM-powered web scraper reducing manual workload by 90% along with a Knowledge Graph\\nRAG pipeline using LangChain and Neo4j.\\nHCL Technologies Ltd June 2024 – Aug 2024\\nAI Intern Chennai\\n• Developed a prototype for product defect detection system using OpenCV for automated fault identification.\\n• Worked with Depth-based Stable Diffusion models to build Img2Img Pipeline\\nPhaidelta LLP Apr 2024 – June 2024\\nAI and Software Developer Intern Remote\\n• Built a RAG-based document Q&A chatbot using LangChain, OpenAI with semantic search over vector\\nembeddings.\\n• Implemented a WebSocket-based notification service using FastAPI with SQLite for real-time notification\\nstorage and management.\\nProjects\\nPerceptual Image Stylization Framework | GAN, CV, React, Flask Github\\n• Implemented unpaired image style transfer using CycleGAN and applied OpenCV for effects like pencil\\nsketching\\n• UI for style selection and image upload built with React and Flask\\nImage Captioning System | CNN, NLP, LSTM, React, FastAPI Github\\n• Text generation model which generates descriptive captions for images using deep learning techniques\\n• Developed front-end with React and back-end API with FastAPI\\nMovie Recommendation System | Flask, NLP, SQL Github\\n• Developed a content-based recommendation engine leveraging genre and story similarity to suggest relevant\\nmovies.\\n• Implemented user authentication with login and registration forms that validate credentials against a SQL\\ndatabase using Flask.\\nTechnical Skills\\nLanguages: Python, Java, SQL, PL/SQL\\nWeb Technologies: React, FastAPI, Flask, HTML, CSS, JavaScript\\nTools & Platforms: AWS, Google Cloud Platform, Snowflake, SQLite\\nLibraries: PySpark, OpenCV, Pandas, NumPy, Matplotlib, Scikit-Learn, TensorFlow, LangChain\\nCertifications\\nNPTEL: Blockchain and Its Applications, Social Network Analysis, Strategic Management\\n'"
      ]
     },
     "execution_count": 7,
     "metadata": {},
     "output_type": "execute_result"
    }
   ],
   "source": [
    "resume_text"
   ]
  },
  {
   "cell_type": "code",
   "execution_count": 9,
   "metadata": {
    "execution": {
     "iopub.execute_input": "2025-07-03T07:05:05.880584Z",
     "iopub.status.busy": "2025-07-03T07:05:05.880235Z",
     "iopub.status.idle": "2025-07-03T07:05:06.355706Z",
     "shell.execute_reply": "2025-07-03T07:05:06.354824Z",
     "shell.execute_reply.started": "2025-07-03T07:05:05.880559Z"
    },
    "trusted": true
   },
   "outputs": [
    {
     "data": {
      "text/html": [
       "<div>\n",
       "<style scoped>\n",
       "    .dataframe tbody tr th:only-of-type {\n",
       "        vertical-align: middle;\n",
       "    }\n",
       "\n",
       "    .dataframe tbody tr th {\n",
       "        vertical-align: top;\n",
       "    }\n",
       "\n",
       "    .dataframe thead th {\n",
       "        text-align: right;\n",
       "    }\n",
       "</style>\n",
       "<table border=\"1\" class=\"dataframe\">\n",
       "  <thead>\n",
       "    <tr style=\"text-align: right;\">\n",
       "      <th></th>\n",
       "      <th>Id</th>\n",
       "      <th>Category</th>\n",
       "      <th>Pages</th>\n",
       "      <th>Data</th>\n",
       "    </tr>\n",
       "  </thead>\n",
       "  <tbody>\n",
       "    <tr>\n",
       "      <th>0</th>\n",
       "      <td>10554236</td>\n",
       "      <td>ACCOUNTANT</td>\n",
       "      <td>5</td>\n",
       "      <td>ACCOUNTANT\\nSummary\\nFinancial Accountant spec...</td>\n",
       "    </tr>\n",
       "    <tr>\n",
       "      <th>1</th>\n",
       "      <td>10674770</td>\n",
       "      <td>ACCOUNTANT</td>\n",
       "      <td>2</td>\n",
       "      <td>STAFF ACCOUNTANT\\nSummary\\nHighly analytical a...</td>\n",
       "    </tr>\n",
       "    <tr>\n",
       "      <th>2</th>\n",
       "      <td>11163645</td>\n",
       "      <td>ACCOUNTANT</td>\n",
       "      <td>2</td>\n",
       "      <td>ACCOUNTANT\\nProfessional Summary\\nTo obtain a ...</td>\n",
       "    </tr>\n",
       "    <tr>\n",
       "      <th>3</th>\n",
       "      <td>11759079</td>\n",
       "      <td>ACCOUNTANT</td>\n",
       "      <td>2</td>\n",
       "      <td>SENIOR ACCOUNTANT\\nExperience\\nCompany Name Ju...</td>\n",
       "    </tr>\n",
       "    <tr>\n",
       "      <th>4</th>\n",
       "      <td>12065211</td>\n",
       "      <td>ACCOUNTANT</td>\n",
       "      <td>2</td>\n",
       "      <td>SENIOR ACCOUNTANT\\nProfessional Summary\\nSenio...</td>\n",
       "    </tr>\n",
       "  </tbody>\n",
       "</table>\n",
       "</div>"
      ],
      "text/plain": [
       "         Id    Category  Pages  \\\n",
       "0  10554236  ACCOUNTANT      5   \n",
       "1  10674770  ACCOUNTANT      2   \n",
       "2  11163645  ACCOUNTANT      2   \n",
       "3  11759079  ACCOUNTANT      2   \n",
       "4  12065211  ACCOUNTANT      2   \n",
       "\n",
       "                                                Data  \n",
       "0  ACCOUNTANT\\nSummary\\nFinancial Accountant spec...  \n",
       "1  STAFF ACCOUNTANT\\nSummary\\nHighly analytical a...  \n",
       "2  ACCOUNTANT\\nProfessional Summary\\nTo obtain a ...  \n",
       "3  SENIOR ACCOUNTANT\\nExperience\\nCompany Name Ju...  \n",
       "4  SENIOR ACCOUNTANT\\nProfessional Summary\\nSenio...  "
      ]
     },
     "execution_count": 9,
     "metadata": {},
     "output_type": "execute_result"
    }
   ],
   "source": [
    "resume_df = pd.read_csv(\"/kaggle/input/resume-data/Extracted_Data.csv\")\n",
    "resume_df.rename(columns={\"Unnamed: 0\" : \"Id\"}, inplace=True)\n",
    "resume_df.head()"
   ]
  },
  {
   "cell_type": "code",
   "execution_count": 10,
   "metadata": {
    "execution": {
     "iopub.execute_input": "2025-07-03T07:05:07.272367Z",
     "iopub.status.busy": "2025-07-03T07:05:07.271955Z",
     "iopub.status.idle": "2025-07-03T07:05:07.341596Z",
     "shell.execute_reply": "2025-07-03T07:05:07.340477Z",
     "shell.execute_reply.started": "2025-07-03T07:05:07.272340Z"
    },
    "trusted": true
   },
   "outputs": [],
   "source": [
    "resume_df = resume_df[resume_df[\"Data\"].duplicated() == False]\n",
    "resume_df.dropna(inplace=True)"
   ]
  },
  {
   "cell_type": "code",
   "execution_count": 11,
   "metadata": {
    "execution": {
     "iopub.execute_input": "2025-07-03T07:05:09.013391Z",
     "iopub.status.busy": "2025-07-03T07:05:09.012385Z",
     "iopub.status.idle": "2025-07-03T07:05:09.664890Z",
     "shell.execute_reply": "2025-07-03T07:05:09.663808Z",
     "shell.execute_reply.started": "2025-07-03T07:05:09.013359Z"
    },
    "trusted": true
   },
   "outputs": [],
   "source": [
    "from nltk.corpus import stopwords\n",
    "from nltk import sent_tokenize, word_tokenize\n",
    "stop_words = set(stopwords.words('english'))\n",
    "\n",
    "def pre_process_text(string):\n",
    "    \n",
    " \n",
    "    string = re.sub(r'https?://\\S+|www\\.\\S+', \"\", string)\n",
    "    string = re.sub(r'[!\\\"#$%&\\'()*+,-./:;<=>?@[\\\\\\]]', \"\", string) \n",
    "    \n",
    "    string = string.lower()\n",
    "    \n",
    "    processed_string = \"\"\n",
    "    \n",
    "    # Removing Stopwords\n",
    "    for sent in sent_tokenize(string):\n",
    "        sub_string = \" \".join([word for word in word_tokenize(sent) if word not in stop_words])\n",
    "        processed_string += sub_string + \" \"\n",
    "        \n",
    "    return processed_string"
   ]
  },
  {
   "cell_type": "code",
   "execution_count": null,
   "metadata": {
    "execution": {
     "iopub.execute_input": "2025-07-03T07:09:16.648134Z",
     "iopub.status.busy": "2025-07-03T07:09:16.646787Z",
     "iopub.status.idle": "2025-07-03T07:09:16.656565Z",
     "shell.execute_reply": "2025-07-03T07:09:16.655629Z",
     "shell.execute_reply.started": "2025-07-03T07:09:16.648084Z"
    },
    "trusted": true
   },
   "outputs": [],
   "source": [
    "stop_words = set(stopwords.words('english'))\n",
    "def resume_data_feature_extraction(string):\n",
    "    \n",
    "    # Remove any Links [HyperLink / WebLink]\n",
    "    string = re.sub(r'https?://\\S+|www\\.\\S+', \"\", string) \n",
    "    \n",
    "    # Convert string to Lowercase\n",
    "    string = string.lower()\n",
    "    \n",
    "    mp = {\n",
    "          \"responsibilities\" : [],\n",
    "          \"skill\" : [],\n",
    "          \"education\" : [],\n",
    "          \"experience\" : [],\n",
    "          \"highlights\" :[],\n",
    "          \"summary\" :[],\n",
    "         }\n",
    "    \n",
    "    for sent in sent_tokenize(string):\n",
    "        for req in mp: \n",
    "                sub_string = \" \".join([word for word in word_tokenize(sent) if word not in stop_words]) \n",
    "                mp[req].append(sub_string)\n",
    "                break \n",
    "    \n",
    "    return_string = \"\"\n",
    "    for req in mp:\n",
    "        if(len(mp[req]) == 0):\n",
    "            continue\n",
    "        return_string += \" \" + req + \" \" + \" \".join(mp[req])\n",
    "    \n",
    "    return_string = re.sub(r'[!\\\"#$%&\\'()*+,-./:;<=>?@[\\\\\\]]', \"\", return_string) \n",
    "    \n",
    "    return return_string"
   ]
  },
  {
   "cell_type": "code",
   "execution_count": 13,
   "metadata": {
    "execution": {
     "iopub.execute_input": "2025-07-03T07:05:12.010740Z",
     "iopub.status.busy": "2025-07-03T07:05:12.010407Z",
     "iopub.status.idle": "2025-07-03T07:05:12.023508Z",
     "shell.execute_reply": "2025-07-03T07:05:12.022450Z",
     "shell.execute_reply.started": "2025-07-03T07:05:12.010718Z"
    },
    "trusted": true
   },
   "outputs": [
    {
     "data": {
      "text/html": [
       "<div>\n",
       "<style scoped>\n",
       "    .dataframe tbody tr th:only-of-type {\n",
       "        vertical-align: middle;\n",
       "    }\n",
       "\n",
       "    .dataframe tbody tr th {\n",
       "        vertical-align: top;\n",
       "    }\n",
       "\n",
       "    .dataframe thead th {\n",
       "        text-align: right;\n",
       "    }\n",
       "</style>\n",
       "<table border=\"1\" class=\"dataframe\">\n",
       "  <thead>\n",
       "    <tr style=\"text-align: right;\">\n",
       "      <th></th>\n",
       "      <th>Id</th>\n",
       "      <th>Category</th>\n",
       "      <th>Pages</th>\n",
       "      <th>Data</th>\n",
       "    </tr>\n",
       "  </thead>\n",
       "  <tbody>\n",
       "    <tr>\n",
       "      <th>0</th>\n",
       "      <td>10554236</td>\n",
       "      <td>ACCOUNTANT</td>\n",
       "      <td>5</td>\n",
       "      <td>ACCOUNTANT\\nSummary\\nFinancial Accountant spec...</td>\n",
       "    </tr>\n",
       "    <tr>\n",
       "      <th>1</th>\n",
       "      <td>10674770</td>\n",
       "      <td>ACCOUNTANT</td>\n",
       "      <td>2</td>\n",
       "      <td>STAFF ACCOUNTANT\\nSummary\\nHighly analytical a...</td>\n",
       "    </tr>\n",
       "    <tr>\n",
       "      <th>2</th>\n",
       "      <td>11163645</td>\n",
       "      <td>ACCOUNTANT</td>\n",
       "      <td>2</td>\n",
       "      <td>ACCOUNTANT\\nProfessional Summary\\nTo obtain a ...</td>\n",
       "    </tr>\n",
       "    <tr>\n",
       "      <th>3</th>\n",
       "      <td>11759079</td>\n",
       "      <td>ACCOUNTANT</td>\n",
       "      <td>2</td>\n",
       "      <td>SENIOR ACCOUNTANT\\nExperience\\nCompany Name Ju...</td>\n",
       "    </tr>\n",
       "    <tr>\n",
       "      <th>4</th>\n",
       "      <td>12065211</td>\n",
       "      <td>ACCOUNTANT</td>\n",
       "      <td>2</td>\n",
       "      <td>SENIOR ACCOUNTANT\\nProfessional Summary\\nSenio...</td>\n",
       "    </tr>\n",
       "    <tr>\n",
       "      <th>...</th>\n",
       "      <td>...</td>\n",
       "      <td>...</td>\n",
       "      <td>...</td>\n",
       "      <td>...</td>\n",
       "    </tr>\n",
       "    <tr>\n",
       "      <th>2479</th>\n",
       "      <td>86322251</td>\n",
       "      <td>TEACHER</td>\n",
       "      <td>2</td>\n",
       "      <td>READING TEACHER\\nSummary\\nI am a highly motiva...</td>\n",
       "    </tr>\n",
       "    <tr>\n",
       "      <th>2480</th>\n",
       "      <td>86597425</td>\n",
       "      <td>TEACHER</td>\n",
       "      <td>3</td>\n",
       "      <td>HISTORY TEACHER\\nProfessional Summary\\nTo be e...</td>\n",
       "    </tr>\n",
       "    <tr>\n",
       "      <th>2481</th>\n",
       "      <td>90363254</td>\n",
       "      <td>TEACHER</td>\n",
       "      <td>2</td>\n",
       "      <td>TEACHER\\nSummary\\nHighly ethical, dependable, ...</td>\n",
       "    </tr>\n",
       "    <tr>\n",
       "      <th>2482</th>\n",
       "      <td>96547039</td>\n",
       "      <td>TEACHER</td>\n",
       "      <td>2</td>\n",
       "      <td>TEACHER\\nSummary\\nTalented early education pro...</td>\n",
       "    </tr>\n",
       "    <tr>\n",
       "      <th>2483</th>\n",
       "      <td>99244405</td>\n",
       "      <td>TEACHER</td>\n",
       "      <td>2</td>\n",
       "      <td>Kpandipou Koffi\\nSummary\\nCompassionate teachi...</td>\n",
       "    </tr>\n",
       "  </tbody>\n",
       "</table>\n",
       "<p>2481 rows × 4 columns</p>\n",
       "</div>"
      ],
      "text/plain": [
       "            Id    Category  Pages  \\\n",
       "0     10554236  ACCOUNTANT      5   \n",
       "1     10674770  ACCOUNTANT      2   \n",
       "2     11163645  ACCOUNTANT      2   \n",
       "3     11759079  ACCOUNTANT      2   \n",
       "4     12065211  ACCOUNTANT      2   \n",
       "...        ...         ...    ...   \n",
       "2479  86322251     TEACHER      2   \n",
       "2480  86597425     TEACHER      3   \n",
       "2481  90363254     TEACHER      2   \n",
       "2482  96547039     TEACHER      2   \n",
       "2483  99244405     TEACHER      2   \n",
       "\n",
       "                                                   Data  \n",
       "0     ACCOUNTANT\\nSummary\\nFinancial Accountant spec...  \n",
       "1     STAFF ACCOUNTANT\\nSummary\\nHighly analytical a...  \n",
       "2     ACCOUNTANT\\nProfessional Summary\\nTo obtain a ...  \n",
       "3     SENIOR ACCOUNTANT\\nExperience\\nCompany Name Ju...  \n",
       "4     SENIOR ACCOUNTANT\\nProfessional Summary\\nSenio...  \n",
       "...                                                 ...  \n",
       "2479  READING TEACHER\\nSummary\\nI am a highly motiva...  \n",
       "2480  HISTORY TEACHER\\nProfessional Summary\\nTo be e...  \n",
       "2481  TEACHER\\nSummary\\nHighly ethical, dependable, ...  \n",
       "2482  TEACHER\\nSummary\\nTalented early education pro...  \n",
       "2483  Kpandipou Koffi\\nSummary\\nCompassionate teachi...  \n",
       "\n",
       "[2481 rows x 4 columns]"
      ]
     },
     "execution_count": 13,
     "metadata": {},
     "output_type": "execute_result"
    }
   ],
   "source": [
    "resume_df"
   ]
  },
  {
   "cell_type": "code",
   "execution_count": 14,
   "metadata": {
    "execution": {
     "iopub.execute_input": "2025-07-03T07:05:13.869401Z",
     "iopub.status.busy": "2025-07-03T07:05:13.868363Z",
     "iopub.status.idle": "2025-07-03T07:08:23.618815Z",
     "shell.execute_reply": "2025-07-03T07:08:23.617993Z",
     "shell.execute_reply.started": "2025-07-03T07:05:13.869365Z"
    },
    "trusted": true
   },
   "outputs": [],
   "source": [
    "resume_df[\"Data\"] = resume_df[\"Data\"].astype(str)\n",
    "resume_df[\"Processed_Data\"] = resume_df[\"Data\"].apply(pre_process_text)\n",
    "\n",
    "\n"
   ]
  },
  {
   "cell_type": "code",
   "execution_count": 16,
   "metadata": {
    "execution": {
     "iopub.execute_input": "2025-07-03T07:09:20.220790Z",
     "iopub.status.busy": "2025-07-03T07:09:20.220248Z",
     "iopub.status.idle": "2025-07-03T07:09:27.810405Z",
     "shell.execute_reply": "2025-07-03T07:09:27.809566Z",
     "shell.execute_reply.started": "2025-07-03T07:09:20.220755Z"
    },
    "trusted": true
   },
   "outputs": [],
   "source": [
    "\n",
    "resume_df[\"Processed_Feature\"] = resume_df[\"Data\"].apply(resume_data_feature_extraction)\n",
    "\n",
    "resume_df.to_csv(\"Processed_Data.csv\")"
   ]
  },
  {
   "cell_type": "code",
   "execution_count": 17,
   "metadata": {
    "execution": {
     "iopub.execute_input": "2025-07-03T07:09:46.006487Z",
     "iopub.status.busy": "2025-07-03T07:09:46.006095Z",
     "iopub.status.idle": "2025-07-03T07:09:46.443550Z",
     "shell.execute_reply": "2025-07-03T07:09:46.442525Z",
     "shell.execute_reply.started": "2025-07-03T07:09:46.006459Z"
    },
    "trusted": true
   },
   "outputs": [
    {
     "data": {
      "text/html": [
       "<div>\n",
       "<style scoped>\n",
       "    .dataframe tbody tr th:only-of-type {\n",
       "        vertical-align: middle;\n",
       "    }\n",
       "\n",
       "    .dataframe tbody tr th {\n",
       "        vertical-align: top;\n",
       "    }\n",
       "\n",
       "    .dataframe thead th {\n",
       "        text-align: right;\n",
       "    }\n",
       "</style>\n",
       "<table border=\"1\" class=\"dataframe\">\n",
       "  <thead>\n",
       "    <tr style=\"text-align: right;\">\n",
       "      <th></th>\n",
       "      <th>Unnamed: 0</th>\n",
       "      <th>Id</th>\n",
       "      <th>Category</th>\n",
       "      <th>Pages</th>\n",
       "      <th>Data</th>\n",
       "      <th>Processed_Data</th>\n",
       "      <th>Processed_Feature</th>\n",
       "    </tr>\n",
       "  </thead>\n",
       "  <tbody>\n",
       "    <tr>\n",
       "      <th>0</th>\n",
       "      <td>0</td>\n",
       "      <td>10554236</td>\n",
       "      <td>ACCOUNTANT</td>\n",
       "      <td>5</td>\n",
       "      <td>ACCOUNTANT\\nSummary\\nFinancial Accountant spec...</td>\n",
       "      <td>accountant summary financial accountant specia...</td>\n",
       "      <td>responsibilities briefing identified team mem...</td>\n",
       "    </tr>\n",
       "    <tr>\n",
       "      <th>1</th>\n",
       "      <td>1</td>\n",
       "      <td>10674770</td>\n",
       "      <td>ACCOUNTANT</td>\n",
       "      <td>2</td>\n",
       "      <td>STAFF ACCOUNTANT\\nSummary\\nHighly analytical a...</td>\n",
       "      <td>staff accountant summary highly analytical det...</td>\n",
       "      <td>skill excel problem solving strategic plannin...</td>\n",
       "    </tr>\n",
       "    <tr>\n",
       "      <th>2</th>\n",
       "      <td>2</td>\n",
       "      <td>11163645</td>\n",
       "      <td>ACCOUNTANT</td>\n",
       "      <td>2</td>\n",
       "      <td>ACCOUNTANT\\nProfessional Summary\\nTo obtain a ...</td>\n",
       "      <td>accountant professional summary obtain positio...</td>\n",
       "      <td>skill accountant professional summary obtain ...</td>\n",
       "    </tr>\n",
       "    <tr>\n",
       "      <th>3</th>\n",
       "      <td>3</td>\n",
       "      <td>11759079</td>\n",
       "      <td>ACCOUNTANT</td>\n",
       "      <td>2</td>\n",
       "      <td>SENIOR ACCOUNTANT\\nExperience\\nCompany Name Ju...</td>\n",
       "      <td>senior accountant experience company name june...</td>\n",
       "      <td>skill developed writing skills drafting forty...</td>\n",
       "    </tr>\n",
       "    <tr>\n",
       "      <th>4</th>\n",
       "      <td>4</td>\n",
       "      <td>12065211</td>\n",
       "      <td>ACCOUNTANT</td>\n",
       "      <td>2</td>\n",
       "      <td>SENIOR ACCOUNTANT\\nProfessional Summary\\nSenio...</td>\n",
       "      <td>senior accountant professional summary senior ...</td>\n",
       "      <td>skill senior accountant professional summary ...</td>\n",
       "    </tr>\n",
       "  </tbody>\n",
       "</table>\n",
       "</div>"
      ],
      "text/plain": [
       "   Unnamed: 0        Id    Category  Pages  \\\n",
       "0           0  10554236  ACCOUNTANT      5   \n",
       "1           1  10674770  ACCOUNTANT      2   \n",
       "2           2  11163645  ACCOUNTANT      2   \n",
       "3           3  11759079  ACCOUNTANT      2   \n",
       "4           4  12065211  ACCOUNTANT      2   \n",
       "\n",
       "                                                Data  \\\n",
       "0  ACCOUNTANT\\nSummary\\nFinancial Accountant spec...   \n",
       "1  STAFF ACCOUNTANT\\nSummary\\nHighly analytical a...   \n",
       "2  ACCOUNTANT\\nProfessional Summary\\nTo obtain a ...   \n",
       "3  SENIOR ACCOUNTANT\\nExperience\\nCompany Name Ju...   \n",
       "4  SENIOR ACCOUNTANT\\nProfessional Summary\\nSenio...   \n",
       "\n",
       "                                      Processed_Data  \\\n",
       "0  accountant summary financial accountant specia...   \n",
       "1  staff accountant summary highly analytical det...   \n",
       "2  accountant professional summary obtain positio...   \n",
       "3  senior accountant experience company name june...   \n",
       "4  senior accountant professional summary senior ...   \n",
       "\n",
       "                                   Processed_Feature  \n",
       "0   responsibilities briefing identified team mem...  \n",
       "1   skill excel problem solving strategic plannin...  \n",
       "2   skill accountant professional summary obtain ...  \n",
       "3   skill developed writing skills drafting forty...  \n",
       "4   skill senior accountant professional summary ...  "
      ]
     },
     "execution_count": 17,
     "metadata": {},
     "output_type": "execute_result"
    }
   ],
   "source": [
    "\n",
    "resumeDataSet = pd.read_csv('/kaggle/working/Processed_Data.csv' ,encoding='utf-8')\n",
    "resumeDataSet['Processed_Data']=resumeDataSet['Processed_Data'].dropna()\n",
    "\n",
    "resumeDataSet.head()"
   ]
  },
  {
   "cell_type": "markdown",
   "metadata": {},
   "source": [
    "### Classification"
   ]
  },
  {
   "cell_type": "code",
   "execution_count": 18,
   "metadata": {
    "execution": {
     "iopub.execute_input": "2025-07-03T07:09:54.939595Z",
     "iopub.status.busy": "2025-07-03T07:09:54.939269Z",
     "iopub.status.idle": "2025-07-03T07:10:04.311976Z",
     "shell.execute_reply": "2025-07-03T07:10:04.310932Z",
     "shell.execute_reply.started": "2025-07-03T07:09:54.939570Z"
    },
    "trusted": true
   },
   "outputs": [
    {
     "name": "stdout",
     "output_type": "stream",
     "text": [
      "(1984, 5000)\n",
      "(497, 5000)\n"
     ]
    }
   ],
   "source": [
    "from sklearn.model_selection import train_test_split\n",
    "from sklearn.feature_extraction.text import TfidfVectorizer\n",
    "from scipy.sparse import hstack\n",
    "\n",
    "requiredText = resumeDataSet['Processed_Data'].values\n",
    "requiredTarget = resumeDataSet['Category'].values\n",
    "\n",
    "word_vectorizer = TfidfVectorizer(\n",
    "    max_features=5000,  \n",
    "        min_df=2,       \n",
    "        max_df=0.95,      \n",
    "        ngram_range=(1, 2),\n",
    "        stop_words='english',\n",
    "        sublinear_tf=True)\n",
    "\n",
    "word_vectorizer.fit(requiredText)\n",
    "WordFeatures = word_vectorizer.transform(requiredText)\n",
    "\n",
    "\n",
    "X_train,X_test,y_train,y_test = train_test_split(WordFeatures,requiredTarget,random_state=42, test_size=0.2,\n",
    "                                                 shuffle=True, stratify=requiredTarget)\n",
    "print(X_train.shape)\n",
    "print(X_test.shape)"
   ]
  },
  {
   "cell_type": "code",
   "execution_count": 19,
   "metadata": {
    "execution": {
     "iopub.execute_input": "2025-07-03T07:10:04.313856Z",
     "iopub.status.busy": "2025-07-03T07:10:04.313516Z",
     "iopub.status.idle": "2025-07-03T07:10:43.330878Z",
     "shell.execute_reply": "2025-07-03T07:10:43.329980Z",
     "shell.execute_reply.started": "2025-07-03T07:10:04.313824Z"
    },
    "trusted": true
   },
   "outputs": [
    {
     "name": "stdout",
     "output_type": "stream",
     "text": [
      "\n",
      "RandomForestClassifier Results:\n",
      "Accuracy: 0.7163\n",
      "Confusion Matrix:\n",
      "[[24  0  0  0  0  0  0  0  0  0  0  0  0  0  0  0  0  0  0  0  0  0  0  0]\n",
      " [ 0 16  0  0  0  0  0  0  0  0  0  0  0  0  1  0  0  0  4  3  0  0  0  0]\n",
      " [ 0  0  8  0  1  0  0  2  0  0  0  0  0  0  0  0  0  1  0  0  1  0  0  0]\n",
      " [ 1  1  0  8  0  0  0  0  0  1  0  0  0  1  0  1  0  1  0  2  1  1  1  0]\n",
      " [ 0  1  1  0  7  0  0  0  0  0  1  0  0  1  0  0  0  0  0  1  1  1  1  6]\n",
      " [ 0  0  0  0  0  1  1  1  0  0  0  0  1  0  0  0  1  0  0  1  0  0  1  0]\n",
      " [ 0  0  0  0  0  0 21  0  0  1  0  0  0  0  0  0  0  0  1  0  0  0  0  0]\n",
      " [ 1  0  0  0  0  0  0 11  0  2  0  0  1  0  0  0  4  0  1  1  1  0  1  0]\n",
      " [ 0  0  0  0  0  0  0  1  0  1  1  0  0  0  0  0  1  0  0  0  0  0  0  0]\n",
      " [ 0  0  0  0  0  0  0  2  0 21  0  0  0  0  1  0  0  0  0  0  0  0  0  0]\n",
      " [ 0  1  0  0  0  0  1  0  0  0 21  0  0  0  0  0  0  0  1  0  0  0  0  0]\n",
      " [ 1  0  0  0  0  0  0  1  0  0  0 17  0  0  0  1  0  0  1  0  0  1  0  0]\n",
      " [ 2  0  0  0  0  0  1  0  0  1  0  1 13  0  0  1  0  0  2  0  2  0  0  0]\n",
      " [ 0  0  0  0  0  0  0  0  0  0  0  0  0 19  0  1  0  0  0  0  1  0  0  0]\n",
      " [ 0  0  0  0  0  0  0  0  0  0  0  0  1  1 14  0  0  0  0  0  0  2  0  1]\n",
      " [ 0  0  0  0  0  0  1  1  0  0  0  2  0  0  0 18  0  0  0  0  2  0  0  0]\n",
      " [ 7  1  0  0  0  0  0  0  0  0  0  0  0  0  0  0 12  0  0  2  0  1  0  1]\n",
      " [ 0  0  0  0  1  0  0  0  0  0  0  0  0  1  1  0  0 17  0  0  0  1  2  1]\n",
      " [ 0  0  0  0  0  0  0  0  0  3  0  0  0  0  2  0  1  1 13  1  2  0  0  0]\n",
      " [ 1  0  0  0  0  0  0  0  0  0  1  0  0  0  0  0  0  0  0 20  0  0  0  0]\n",
      " [ 0  0  0  0  0  0  0  0  0  0  0  0  0  0  0  1  0  0  0  0 23  0  0  0]\n",
      " [ 0  0  0  0  0  0  0  2  0  0  0  0  0  0  1  0  0  0  0  1  0 18  0  0]\n",
      " [ 0  0  0  0  0  0  0  0  0  4  0  1  1  0  0  0  0  0  1  0  0  0 15  1]\n",
      " [ 0  0  1  0  0  0  0  0  0  0  0  0  0  0  0  0  0  0  0  0  0  0  0 19]]\n",
      "\n",
      "Classification Report:\n",
      "                        precision    recall  f1-score   support\n",
      "\n",
      "            ACCOUNTANT       0.65      1.00      0.79        24\n",
      "              ADVOCATE       0.80      0.67      0.73        24\n",
      "           AGRICULTURE       0.80      0.62      0.70        13\n",
      "               APPAREL       1.00      0.42      0.59        19\n",
      "                  ARTS       0.78      0.33      0.47        21\n",
      "            AUTOMOBILE       1.00      0.14      0.25         7\n",
      "              AVIATION       0.84      0.91      0.87        23\n",
      "               BANKING       0.52      0.48      0.50        23\n",
      "                   BPO       0.00      0.00      0.00         4\n",
      "  BUSINESS-DEVELOPMENT       0.62      0.88      0.72        24\n",
      "                  CHEF       0.88      0.88      0.88        24\n",
      "          CONSTRUCTION       0.81      0.77      0.79        22\n",
      "            CONSULTANT       0.76      0.57      0.65        23\n",
      "              DESIGNER       0.83      0.90      0.86        21\n",
      "         DIGITAL-MEDIA       0.70      0.74      0.72        19\n",
      "           ENGINEERING       0.78      0.75      0.77        24\n",
      "               FINANCE       0.63      0.50      0.56        24\n",
      "               FITNESS       0.85      0.71      0.77        24\n",
      "            HEALTHCARE       0.54      0.57      0.55        23\n",
      "                    HR       0.62      0.91      0.74        22\n",
      "INFORMATION-TECHNOLOGY       0.68      0.96      0.79        24\n",
      "      PUBLIC-RELATIONS       0.72      0.82      0.77        22\n",
      "                 SALES       0.71      0.65      0.68        23\n",
      "               TEACHER       0.66      0.95      0.78        20\n",
      "\n",
      "              accuracy                           0.72       497\n",
      "             macro avg       0.72      0.67      0.66       497\n",
      "          weighted avg       0.73      0.72      0.70       497\n",
      "\n"
     ]
    }
   ],
   "source": [
    "from sklearn.ensemble import RandomForestClassifier\n",
    "from sklearn.multiclass import OneVsRestClassifier\n",
    "from sklearn.metrics import accuracy_score, confusion_matrix, classification_report\n",
    "\n",
    "rf_model = OneVsRestClassifier(RandomForestClassifier())\n",
    "rf_model.fit(X_train, y_train)\n",
    "\n",
    "\n",
    "y_pred_rf = rf_model.predict(X_test)\n",
    "\n",
    "\n",
    "print(\"\\nRandomForestClassifier Results:\")\n",
    "print(f\"Accuracy: {accuracy_score(y_test, y_pred_rf):.4f}\")\n",
    "print(\"Confusion Matrix:\")\n",
    "print(confusion_matrix(y_test, y_pred_rf))\n",
    "print(\"\\nClassification Report:\")\n",
    "print(classification_report(y_test, y_pred_rf))"
   ]
  },
  {
   "cell_type": "code",
   "execution_count": 20,
   "metadata": {
    "execution": {
     "iopub.execute_input": "2025-07-03T07:11:40.593544Z",
     "iopub.status.busy": "2025-07-03T07:11:40.593185Z",
     "iopub.status.idle": "2025-07-03T07:11:40.764817Z",
     "shell.execute_reply": "2025-07-03T07:11:40.763965Z",
     "shell.execute_reply.started": "2025-07-03T07:11:40.593512Z"
    },
    "trusted": true
   },
   "outputs": [
    {
     "data": {
      "text/plain": [
       "'INFORMATION-TECHNOLOGY'"
      ]
     },
     "execution_count": 20,
     "metadata": {},
     "output_type": "execute_result"
    }
   ],
   "source": [
    "test=pre_process_text(resume_text)\n",
    "text_features = word_vectorizer.transform([test])\n",
    "pred = rf_model.predict(text_features)\n",
    "pred[0]\n"
   ]
  },
  {
   "cell_type": "markdown",
   "metadata": {},
   "source": [
    "#### Using Extracted Data"
   ]
  },
  {
   "cell_type": "code",
   "execution_count": 22,
   "metadata": {
    "execution": {
     "iopub.execute_input": "2025-07-03T07:12:05.272899Z",
     "iopub.status.busy": "2025-07-03T07:12:05.272527Z",
     "iopub.status.idle": "2025-07-03T07:12:08.902036Z",
     "shell.execute_reply": "2025-07-03T07:12:08.901109Z",
     "shell.execute_reply.started": "2025-07-03T07:12:05.272874Z"
    },
    "trusted": true
   },
   "outputs": [
    {
     "name": "stdout",
     "output_type": "stream",
     "text": [
      "(1984, 5000)\n",
      "(497, 5000)\n"
     ]
    }
   ],
   "source": [
    "from sklearn.model_selection import train_test_split\n",
    "from sklearn.feature_extraction.text import TfidfVectorizer\n",
    "from scipy.sparse import hstack\n",
    "\n",
    "requiredText = resumeDataSet['Processed_Feature'].values\n",
    "requiredTarget = resumeDataSet['Category'].values\n",
    "\n",
    "word_vectorizer = TfidfVectorizer(\n",
    "    max_features=5000,  \n",
    "        min_df=2,       \n",
    "        max_df=0.95,      \n",
    "        ngram_range=(1, 2),\n",
    "        stop_words='english',\n",
    "        sublinear_tf=True)\n",
    "\n",
    "word_vectorizer.fit(requiredText)\n",
    "WordFeatures = word_vectorizer.transform(requiredText)\n",
    "\n",
    "\n",
    "X_train,X_test,y_train,y_test = train_test_split(WordFeatures,requiredTarget,random_state=42, test_size=0.2,\n",
    "                                                 shuffle=True, stratify=requiredTarget)\n",
    "print(X_train.shape)\n",
    "print(X_test.shape)"
   ]
  },
  {
   "cell_type": "code",
   "execution_count": 23,
   "metadata": {
    "execution": {
     "iopub.execute_input": "2025-07-03T07:12:10.697716Z",
     "iopub.status.busy": "2025-07-03T07:12:10.697352Z",
     "iopub.status.idle": "2025-07-03T07:12:36.220114Z",
     "shell.execute_reply": "2025-07-03T07:12:36.218939Z",
     "shell.execute_reply.started": "2025-07-03T07:12:10.697691Z"
    },
    "trusted": true
   },
   "outputs": [
    {
     "name": "stdout",
     "output_type": "stream",
     "text": [
      "\n",
      "RandomForestClassifier Results:\n",
      "Accuracy: 0.7465\n",
      "Confusion Matrix:\n",
      "[[24  0  0  0  0  0  0  0  0  0  0  0  0  0  0  0  0  0  0  0  0  0  0  0]\n",
      " [ 0 15  0  0  0  0  0  0  0  1  0  0  0  0  0  1  0  1  2  2  0  0  0  2]\n",
      " [ 0  0  6  0  0  0  0  1  0  0  0  2  0  0  0  0  1  1  0  0  1  1  0  0]\n",
      " [ 1  0  0  7  1  0  1  0  0  2  0  0  0  2  1  0  0  0  0  1  2  1  0  0]\n",
      " [ 0  0  1  0  5  0  0  0  0  2  0  0  0  1  0  0  0  0  0  1  1  0  1  9]\n",
      " [ 1  0  0  0  0  1  2  0  0  0  0  0  1  0  0  1  0  0  1  0  0  0  0  0]\n",
      " [ 0  0  0  1  0  0 19  0  0  0  0  0  0  0  0  0  0  0  1  0  0  0  1  1]\n",
      " [ 1  0  0  1  0  0  0 13  0  2  0  0  2  0  1  0  1  0  1  1  0  0  0  0]\n",
      " [ 0  0  0  0  0  0  0  1  0  1  0  0  0  0  0  0  0  0  2  0  0  0  0  0]\n",
      " [ 0  0  0  0  0  0  0  1  0 23  0  0  0  0  0  0  0  0  0  0  0  0  0  0]\n",
      " [ 0  0  0  0  0  0  0  0  0  0 21  0  0  1  1  0  0  0  0  0  0  0  0  1]\n",
      " [ 1  0  0  0  0  0  0  1  0  0  0 18  0  0  1  0  0  0  1  0  0  0  0  0]\n",
      " [ 0  0  0  0  0  0  1  0  0  0  0  0 21  0  0  1  0  0  0  0  0  0  0  0]\n",
      " [ 0  0  0  0  0  0  0  0  0  0  0  0  0 19  0  1  0  0  0  0  1  0  0  0]\n",
      " [ 0  0  0  0  0  0  0  0  0  1  0  0  0  2 13  0  0  0  0  0  0  3  0  0]\n",
      " [ 0  0  0  0  0  0  0  0  0  0  0  1  0  0  0 20  0  0  0  0  1  1  1  0]\n",
      " [ 3  0  0  0  0  0  0  0  0  0  0  0  0  0  0  0 19  0  0  0  0  1  0  1]\n",
      " [ 1  0  0  0  0  0  2  0  0  0  0  0  0  1  2  0  0 16  1  0  0  0  1  0]\n",
      " [ 1  3  0  0  0  0  0  0  0  3  0  0  0  0  2  0  0  1 11  0  2  0  0  0]\n",
      " [ 0  0  0  0  0  0  0  0  0  0  1  0  0  0  0  0  0  0  0 21  0  0  0  0]\n",
      " [ 0  0  0  0  0  0  0  0  0  0  0  0  0  1  0  1  0  0  1  0 21  0  0  0]\n",
      " [ 0  0  0  0  0  0  0  2  0  0  0  0  0  0  1  0  0  0  1  1  0 17  0  0]\n",
      " [ 0  0  0  0  0  0  0  0  0  0  0  0  0  0  0  0  0  0  1  0  0  0 22  0]\n",
      " [ 0  0  0  0  0  0  0  0  0  0  0  0  0  0  0  0  0  0  1  0  0  0  0 19]]\n",
      "\n",
      "Classification Report:\n",
      "                        precision    recall  f1-score   support\n",
      "\n",
      "            ACCOUNTANT       0.73      1.00      0.84        24\n",
      "              ADVOCATE       0.83      0.62      0.71        24\n",
      "           AGRICULTURE       0.86      0.46      0.60        13\n",
      "               APPAREL       0.78      0.37      0.50        19\n",
      "                  ARTS       0.83      0.24      0.37        21\n",
      "            AUTOMOBILE       1.00      0.14      0.25         7\n",
      "              AVIATION       0.76      0.83      0.79        23\n",
      "               BANKING       0.68      0.57      0.62        23\n",
      "                   BPO       0.00      0.00      0.00         4\n",
      "  BUSINESS-DEVELOPMENT       0.66      0.96      0.78        24\n",
      "                  CHEF       0.95      0.88      0.91        24\n",
      "          CONSTRUCTION       0.86      0.82      0.84        22\n",
      "            CONSULTANT       0.88      0.91      0.89        23\n",
      "              DESIGNER       0.70      0.90      0.79        21\n",
      "         DIGITAL-MEDIA       0.59      0.68      0.63        19\n",
      "           ENGINEERING       0.80      0.83      0.82        24\n",
      "               FINANCE       0.90      0.79      0.84        24\n",
      "               FITNESS       0.84      0.67      0.74        24\n",
      "            HEALTHCARE       0.46      0.48      0.47        23\n",
      "                    HR       0.78      0.95      0.86        22\n",
      "INFORMATION-TECHNOLOGY       0.72      0.88      0.79        24\n",
      "      PUBLIC-RELATIONS       0.71      0.77      0.74        22\n",
      "                 SALES       0.85      0.96      0.90        23\n",
      "               TEACHER       0.58      0.95      0.72        20\n",
      "\n",
      "              accuracy                           0.75       497\n",
      "             macro avg       0.74      0.69      0.68       497\n",
      "          weighted avg       0.76      0.75      0.73       497\n",
      "\n"
     ]
    }
   ],
   "source": [
    "from sklearn.ensemble import RandomForestClassifier\n",
    "from sklearn.multiclass import OneVsRestClassifier\n",
    "from sklearn.metrics import accuracy_score, confusion_matrix, classification_report\n",
    "\n",
    "rf_model = OneVsRestClassifier(RandomForestClassifier())\n",
    "rf_model.fit(X_train, y_train)\n",
    "\n",
    "\n",
    "y_pred_rf = rf_model.predict(X_test)\n",
    "\n",
    "\n",
    "print(\"\\nRandomForestClassifier Results:\")\n",
    "print(f\"Accuracy: {accuracy_score(y_test, y_pred_rf):.4f}\")\n",
    "print(\"Confusion Matrix:\")\n",
    "print(confusion_matrix(y_test, y_pred_rf))\n",
    "print(\"\\nClassification Report:\")\n",
    "print(classification_report(y_test, y_pred_rf))"
   ]
  },
  {
   "cell_type": "code",
   "execution_count": 24,
   "metadata": {
    "execution": {
     "iopub.execute_input": "2025-07-03T07:12:36.221775Z",
     "iopub.status.busy": "2025-07-03T07:12:36.221494Z",
     "iopub.status.idle": "2025-07-03T07:12:36.384697Z",
     "shell.execute_reply": "2025-07-03T07:12:36.383879Z",
     "shell.execute_reply.started": "2025-07-03T07:12:36.221755Z"
    },
    "trusted": true
   },
   "outputs": [
    {
     "data": {
      "text/plain": [
       "'DIGITAL-MEDIA'"
      ]
     },
     "execution_count": 24,
     "metadata": {},
     "output_type": "execute_result"
    }
   ],
   "source": [
    "test=pre_process_text(resume_text)\n",
    "text_features = word_vectorizer.transform([test])\n",
    "pred = rf_model.predict(text_features)\n",
    "pred[0]\n"
   ]
  },
  {
   "cell_type": "markdown",
   "metadata": {},
   "source": [
    "Extracted features lose the context of the resume"
   ]
  },
  {
   "cell_type": "markdown",
   "metadata": {},
   "source": [
    "### Recommendation & Ranking"
   ]
  },
  {
   "cell_type": "code",
   "execution_count": 40,
   "metadata": {},
   "outputs": [],
   "source": [
    "df=pd.read_csv(\"job_title_des.csv\")\n",
    "df[\"Job Description\"] = df[\"Job Description\"].drop_duplicates().dropna()"
   ]
  },
  {
   "cell_type": "code",
   "execution_count": 44,
   "metadata": {},
   "outputs": [
    {
     "data": {
      "text/plain": [
       "0       We are looking for hire experts flutter develo...\n",
       "1       PYTHON/DJANGO (Developer/Lead) - Job Code(PDJ ...\n",
       "2       Data Scientist (Contractor)\\n\\nBangalore, IN\\n...\n",
       "3       JOB DESCRIPTION:\\n\\nStrong framework outside o...\n",
       "4       job responsibility full stack engineer – react...\n",
       "                              ...                        \n",
       "2272    Job Summary\\nPublished on : 26 days ago\\nVacan...\n",
       "2273    business entity cisco umbrella focus cloud-bas...\n",
       "2274    Urgently reqd in a college in Mohali\\nNetwork ...\n",
       "2275    Key Responsibilities: Team leads for small or ...\n",
       "2276    leslie hindman auctioneer one nation 's leadin...\n",
       "Name: Job Description, Length: 2277, dtype: object"
      ]
     },
     "execution_count": 44,
     "metadata": {},
     "output_type": "execute_result"
    }
   ],
   "source": [
    "df[\"Job Description\"]=df[\"Job Description\"].astype(str)\n",
    "df[\"Job Description\"]"
   ]
  },
  {
   "cell_type": "code",
   "execution_count": 45,
   "metadata": {},
   "outputs": [],
   "source": [
    "df[\"Job Description\"] = df[\"Job Description\"].apply(lambda x: pre_process_text(x))\n"
   ]
  },
  {
   "cell_type": "code",
   "execution_count": 46,
   "metadata": {},
   "outputs": [],
   "source": [
    "resumes = resumeDataSet['Processed_Data'].dropna().tolist()\n",
    "jobs = df['Job Description'].dropna().tolist()"
   ]
  },
  {
   "cell_type": "code",
   "execution_count": 47,
   "metadata": {},
   "outputs": [],
   "source": [
    "combined = resumes + jobs\n",
    "\n",
    "vectorizer = TfidfVectorizer()\n",
    "tfidf_matrix = vectorizer.fit_transform(combined)\n",
    "\n",
    "resume_vectors = tfidf_matrix[:len(resumes)]\n",
    "job_vectors = tfidf_matrix[len(resumes):]"
   ]
  },
  {
   "cell_type": "code",
   "execution_count": null,
   "metadata": {},
   "outputs": [],
   "source": [
    "from sklearn.metrics.pairwise import cosine_similarity\n",
    "test=vectorizer.transform([resume_text])\n",
    "similarity_matrix = cosine_similarity(test, job_vectors)\n"
   ]
  },
  {
   "cell_type": "code",
   "execution_count": 57,
   "metadata": {},
   "outputs": [
    {
     "name": "stdout",
     "output_type": "stream",
     "text": [
      "Rank 1: Java Developer (Score: 0.12)\n",
      "Rank 2: Django Developer (Score: 0.12)\n",
      "Rank 3: Machine Learning (Score: 0.11)\n"
     ]
    }
   ],
   "source": [
    "\n",
    "top3_ind = np.argsort(similarity_matrix[0])[-3:][::-1]\n",
    "\n",
    "for job_rank, job_idx in enumerate(top3_ind, 1):\n",
    "    job_title = df[df['Job Description'] == jobs[job_idx]]['Job Title'].values[0]\n",
    "    print(f\"Rank {job_rank}: {job_title} (Score: {similarity_matrix[0][job_idx]:.2f})\")"
   ]
  }
 ],
 "metadata": {
  "kaggle": {
   "accelerator": "none",
   "dataSources": [
    {
     "datasetId": 7791765,
     "sourceId": 12358798,
     "sourceType": "datasetVersion"
    }
   ],
   "dockerImageVersionId": 31040,
   "isGpuEnabled": false,
   "isInternetEnabled": true,
   "language": "python",
   "sourceType": "notebook"
  },
  "kernelspec": {
   "display_name": "Python 3",
   "language": "python",
   "name": "python3"
  },
  "language_info": {
   "codemirror_mode": {
    "name": "ipython",
    "version": 3
   },
   "file_extension": ".py",
   "mimetype": "text/x-python",
   "name": "python",
   "nbconvert_exporter": "python",
   "pygments_lexer": "ipython3",
   "version": "3.11.11"
  }
 },
 "nbformat": 4,
 "nbformat_minor": 4
}
